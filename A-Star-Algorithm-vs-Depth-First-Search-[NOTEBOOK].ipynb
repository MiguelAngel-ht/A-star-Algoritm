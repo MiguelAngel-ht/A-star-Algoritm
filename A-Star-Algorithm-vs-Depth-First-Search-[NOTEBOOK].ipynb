{
  "cells": [
    {
      "cell_type": "markdown",
      "metadata": {
        "id": "view-in-github",
        "colab_type": "text"
      },
      "source": [
        "<a href=\"https://colab.research.google.com/github/MiguelAngel-ht/A-star-Algoritm/blob/main/A-Star-Algorithm-vs-Depth-First-Search-%5BNOTEBOOK%5D.ipynb\" target=\"_parent\"><img src=\"https://colab.research.google.com/assets/colab-badge.svg\" alt=\"Open In Colab\"/></a>"
      ]
    },
    {
      "cell_type": "markdown",
      "source": [
        "---\n",
        "---\n",
        "\n",
        "# **A-star Algorithm**\n",
        "\n",
        "---\n",
        "---\n"
      ],
      "metadata": {
        "id": "YNIACR11SkY5"
      }
    },
    {
      "cell_type": "code",
      "source": [
        "def new_childs(a):\n",
        "  \"\"\"\n",
        "  args:\n",
        "          a    ->  STR string with value that probabitly follows the grammar\n",
        "  returns:\n",
        "        vector ->  LIST con todas las combinaciones simples posibles \n",
        "  \"\"\"\n",
        "\n",
        "  vector = []\n",
        "\n",
        "  # FOR for one only character to change\n",
        "  for i, j in enumerate(a):\n",
        "\n",
        "    if j == 'a':\n",
        "      aux = a[:i] + 'c' + a[i+1:] \n",
        "      vector.append(aux)\n",
        "    elif j == 'c':\n",
        "      aux = a[:i] + 'b' + a[i+1:]\n",
        "      vector.append(aux)\n",
        "\n",
        "  # FOR for 2 characters to change\n",
        "  for i, j in enumerate([a[i:i+2] for i in range(len(a)-1)]):\n",
        "\n",
        "    if j == 'bc':\n",
        "      aux = a[:i] + 'S' + a[i+2:]\n",
        "      vector.append(aux)\n",
        "\n",
        "    if j == 'SS':\n",
        "      aux = a[:i] + 'S' + a[i+2:]\n",
        "      vector.append(aux)\n",
        "\n",
        "    if j == 'ab':\n",
        "      aux = a[:i] + 'a' + a[i+2:]\n",
        "      vector.append(aux)\n",
        "\n",
        "    if j == 'bc':\n",
        "      aux = a[:i] + 'c' + a[i+2:]\n",
        "      vector.append(aux)\n",
        "\n",
        "    if j == 'ab':\n",
        "      aux = a[:i] + 'bc' + a[i+2:]\n",
        "      vector.append(aux)\n",
        "\n",
        "    if j == 'bc':\n",
        "      aux = a[:i] + 'ab' + a[i+2:]\n",
        "      vector.append(aux)\n",
        "    \n",
        "  return vector"
      ],
      "metadata": {
        "id": "6j3ZalJGdjWd"
      },
      "execution_count": 1,
      "outputs": []
    },
    {
      "cell_type": "code",
      "source": [
        "# testing function\n",
        "new_childs('abca')"
      ],
      "metadata": {
        "colab": {
          "base_uri": "https://localhost:8080/"
        },
        "id": "w9Iwx7kstG77",
        "outputId": "a49988f9-171e-46ad-a02a-0a00a003ff1b"
      },
      "execution_count": 2,
      "outputs": [
        {
          "output_type": "execute_result",
          "data": {
            "text/plain": [
              "['cbca', 'abba', 'abcc', 'aca', 'bcca', 'aSa', 'aca', 'aaba']"
            ]
          },
          "metadata": {},
          "execution_count": 2
        }
      ]
    },
    {
      "cell_type": "code",
      "source": [
        "from queue import PriorityQueue"
      ],
      "metadata": {
        "id": "lUC37t9OT2eO"
      },
      "execution_count": 3,
      "outputs": []
    },
    {
      "cell_type": "code",
      "source": [
        "\"\"\"\n",
        "      Source of base code: https://www.simplifiedpython.net/a-star-algorithm-python-tutorial/\n",
        "\"\"\"\n",
        "\n",
        "# creating base class\n",
        "class state(object):\n",
        "    def __init__(self, value, parent, start = 0, goal = 0):\n",
        "        self.children = []\n",
        "        self.parent = parent\n",
        "        self.value = value\n",
        "        self.dist = 0\n",
        "        # Initialized values by default\n",
        "        if parent:\n",
        "            self.start = parent.start\n",
        "            self.goal = parent.goal\n",
        "            self.path = parent.path[:]\n",
        "            self.path.append(value)\n",
        "        else:\n",
        "            self.path = [value]\n",
        "            self.start = start\n",
        "            self.goal = goal\n",
        "\n",
        "    # method to know what is the sortest distance to the goal\n",
        "    def get_distance(self):\n",
        "        pass\n",
        "\n",
        "    def create_children(self):\n",
        "        pass"
      ],
      "metadata": {
        "id": "zQnEy0iRT7ys"
      },
      "execution_count": 4,
      "outputs": []
    },
    {
      "cell_type": "code",
      "source": [
        "# Creating subclass\n",
        "class state_string(state):\n",
        "    def __init__(self, value, parent, start = 0, goal = 0):\n",
        "        super(state_string, self).__init__(value, parent, start, goal)\n",
        "        self.dist = self.get_distance()\n",
        " \n",
        "\n",
        "    def get_distance(self):\n",
        "            if self.value == self.goal:\n",
        "                return 0\n",
        "            dist = 0\n",
        "            for i in range(len(self.value)):\n",
        "                letter = self.value[i]\n",
        "                # compute distance of every value of the state and sum all\n",
        "                dist += abs(self.value.rfind(letter)-i-3)\n",
        "            return dist\n",
        " \n",
        "    def create_children(self):\n",
        "            if not self.children:\n",
        "              for child in new_childs(self.value):\n",
        "                # append every string created with the function new_childs\n",
        "                self.children.append(state_string(child, self))        "
      ],
      "metadata": {
        "id": "eP0DsDuRU6ET"
      },
      "execution_count": 5,
      "outputs": []
    },
    {
      "cell_type": "code",
      "source": [
        "# Creating a class that hold the final magic\n",
        "class A_star_solver:\n",
        "    def __init__(self, start, goal):\n",
        "        # initilized values to the solver\n",
        "        self.path = []\n",
        "        self.vistedQueue =[]\n",
        "        self.priorityQueue = PriorityQueue()\n",
        "        self.start = start\n",
        "        self.goal = goal\n",
        "\n",
        "    def solve(self):\n",
        "        # initilized class with the data structure\n",
        "        start_state = state_string(self.start, 0, \n",
        "                                  self.start, self.goal)\n",
        " \n",
        "        count = 0\n",
        "        # data with priority assigned\n",
        "        self.priorityQueue.put((0, count, start_state))\n",
        "\n",
        "        while(not self.path and self.priorityQueue.qsize()):\n",
        "               # get closest childs\n",
        "               closeset_child = self.priorityQueue.get()[2]\n",
        "               closeset_child.create_children()\n",
        "               self.vistedQueue.append(closeset_child.value)\n",
        "               \n",
        "               # evaluate every child with another priority\n",
        "               for child in closeset_child.children:\n",
        "\n",
        "                   if child.value not in self.vistedQueue:\n",
        "                      count += 1\n",
        "\n",
        "                      if not child.dist:\n",
        "                        self.path = child.path\n",
        "                        break\n",
        "\n",
        "                      self.priorityQueue.put((child.dist,count,child))\n",
        "\n",
        "        # if there is not a path, is impossible\n",
        "        if not self.path:\n",
        "            print(\"Goal Of  is not possible !\" + self.goal )\n",
        "\n",
        "        return self.path"
      ],
      "metadata": {
        "id": "avzlq9feVDLh"
      },
      "execution_count": 6,
      "outputs": []
    },
    {
      "cell_type": "code",
      "source": [
        "from queue import LifoQueue"
      ],
      "metadata": {
        "id": "besW6EEfhKV2"
      },
      "execution_count": 7,
      "outputs": []
    },
    {
      "cell_type": "code",
      "source": [
        "class depth_first_search_solver:\n",
        "    def __init__(self, start, goal):\n",
        "        self.path = []\n",
        "        self.vistedQueue =[]\n",
        "        self.priorityQueue = PriorityQueue()\n",
        "        self.start = start\n",
        "        self.goal = goal\n",
        "\n",
        "    ## solver\n",
        "    def DFS(self):\n",
        "        start = self.start\n",
        "        closed = []                 # init open, closed\n",
        "        open = LifoQueue()\n",
        "        open.put(start)\n",
        "\n",
        "        while not open.empty():        # loop until no more open states\n",
        "\n",
        "            state = open.get()         # get next state to expand\n",
        "\n",
        "            if state not in closed:    # prune?\n",
        "\n",
        "                closed.append(state)   # mark state visited (closed)\n",
        "\n",
        "                if state == 'S':     # success?\n",
        "                    return True\n",
        "\n",
        "                for child in new_childs(state):\n",
        "                  open.put(child)                 # new states are open\n",
        "\n",
        "        return False              # goal not found\n"
      ],
      "metadata": {
        "id": "iHFUmVPYek9n"
      },
      "execution_count": 8,
      "outputs": []
    },
    {
      "cell_type": "markdown",
      "source": [
        "---\n",
        "---\n",
        "\n",
        "# **Depth-Firts Search**\n",
        "\n",
        "---\n",
        "---\n"
      ],
      "metadata": {
        "id": "quSJQywZS5jt"
      }
    },
    {
      "cell_type": "code",
      "source": [
        "def print_state(state):\n",
        "    \"\"\"Pretty-prints a state\"\"\"\n",
        "    for row in state[0]:\n",
        "        print(row)"
      ],
      "metadata": {
        "id": "qrUOxN2atgg1"
      },
      "execution_count": 9,
      "outputs": []
    },
    {
      "cell_type": "code",
      "source": [
        "import copy\n",
        "\n",
        "def create_path(first_state=None):\n",
        "    \"\"\"Create a new empty or singleton path. If first_state has a value, it\n",
        "    becomes the first state in the path.\"\"\"\n",
        "    if first_state == None:\n",
        "        return []\n",
        "    return [first_state]\n",
        "\n",
        "def add_state_to_path(path, state):\n",
        "    \"\"\"Paths should be immutable, so this method performs a deep copy of\n",
        "    the given path, appends the state to the copy, and returns the copy\"\"\"\n",
        "    new_path = copy.deepcopy(path)\n",
        "    new_path.append(state)\n",
        "    return new_path\n",
        "\n",
        "def print_path(path):\n",
        "    \"\"\"Relies on a print_state method to pretty-print a path.\"\"\"\n",
        "    print(\"Depth-First Search\")\n",
        "    print('============')\n",
        "    for ste in path:\n",
        "        print(ste)\n",
        "    print(len(path)-1,\" Moves \\n\")"
      ],
      "metadata": {
        "id": "LBg8CAy5uZwY"
      },
      "execution_count": 37,
      "outputs": []
    },
    {
      "cell_type": "code",
      "source": [
        "## solver\n",
        "def DFS(start_state):\n",
        "    closed = []                 # init open, closed\n",
        "    open = LifoQueue()\n",
        "    open.put(start_state)\n",
        "\n",
        "    while not open.empty():        # loop until no more open states\n",
        "\n",
        "        state = open.get()         # get next state to expand\n",
        "\n",
        "        if state not in closed:    # prune?\n",
        "\n",
        "            closed.append(state)   # mark state visited (closed)\n",
        "\n",
        "            if state == 'S':     # success?\n",
        "                return closed, True\n",
        "\n",
        "            for new_state in new_childs(state):    # expand state\n",
        "                open.put(new_state)                 # new states are open\n",
        "\n",
        "    return closed, False              # goal not found"
      ],
      "metadata": {
        "id": "gAR55kO5tQ4D"
      },
      "execution_count": 11,
      "outputs": []
    },
    {
      "cell_type": "markdown",
      "source": [
        "---\n",
        "---\n",
        "\n",
        "# **Main Functions**\n",
        "\n",
        "---\n",
        "---"
      ],
      "metadata": {
        "id": "rxG6t3UwTj2P"
      }
    },
    {
      "cell_type": "code",
      "source": [
        "## run the solver no-path\n",
        "def main_DFS(start_state):\n",
        "  result = False\n",
        "  path = create_path(start_state) \n",
        "  tol = len(start_state)*10\n",
        "  k = 0\n",
        "  while not result and k > tol:\n",
        "    print(k)\n",
        "    k += 1\n",
        "    closed, result = DFS(start_state)\n",
        "\n",
        "  try:\n",
        "    for ste in closed[1:]:\n",
        "      path = add_state_to_path(path, ste)\n",
        "    print_path(path)\n",
        "  except:\n",
        "    print('There is not possible')"
      ],
      "metadata": {
        "id": "4tbPcgl2uk4m"
      },
      "execution_count": 39,
      "outputs": []
    },
    {
      "cell_type": "code",
      "source": [
        "# Calling all the existing stuffs\n",
        "def main_Astar(start1):\n",
        "    goal1 = \"S\"\n",
        "    a = A_star_solver(start1, goal1)\n",
        "    a.solve()\n",
        "\n",
        "    if a.path == None:\n",
        "\n",
        "      print(\"A* Algorithm\")\n",
        "      print('============')\n",
        "\n",
        "      for i in range(len(a.path)):\n",
        "          print(a.path[i])\n",
        "      print(len(a.path)-1,' Moves')"
      ],
      "metadata": {
        "id": "di3DvURlWDnd"
      },
      "execution_count": 40,
      "outputs": []
    },
    {
      "cell_type": "code",
      "source": [
        "start = 'b+'\n",
        "main_DFS(start)\n",
        "main_Astar(start)"
      ],
      "metadata": {
        "colab": {
          "base_uri": "https://localhost:8080/"
        },
        "id": "-a9dZuTqaInR",
        "outputId": "8da8f293-c2bf-4664-e809-6602d0612fb5"
      },
      "execution_count": 41,
      "outputs": [
        {
          "output_type": "stream",
          "name": "stdout",
          "text": [
            "There is not possible\n",
            "Goal Of  is not possible !S\n"
          ]
        }
      ]
    }
  ],
  "metadata": {
    "colab": {
      "provenance": [],
      "authorship_tag": "ABX9TyO6cIUyWoy7MWGXONVXJtPc",
      "include_colab_link": true
    },
    "kernelspec": {
      "display_name": "Python 3",
      "name": "python3"
    },
    "language_info": {
      "name": "python"
    }
  },
  "nbformat": 4,
  "nbformat_minor": 0
}