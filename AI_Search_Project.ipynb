{
  "cells": [
    {
      "cell_type": "markdown",
      "metadata": {
        "id": "view-in-github",
        "colab_type": "text"
      },
      "source": [
        "<a href=\"https://colab.research.google.com/github/MiguelAngel-ht/A-star-Algoritm/blob/main/AI_Search_Project.ipynb\" target=\"_parent\"><img src=\"https://colab.research.google.com/assets/colab-badge.svg\" alt=\"Open In Colab\"/></a>"
      ]
    },
    {
      "cell_type": "code",
      "execution_count": null,
      "metadata": {
        "id": "V5tUe4ZcCmzh"
      },
      "outputs": [],
      "source": [
        "a_list = ['a','c','b','a']\n",
        "a_str = ''\n",
        "for i in a_list:\n",
        "  a_str += i"
      ]
    },
    {
      "cell_type": "code",
      "execution_count": null,
      "metadata": {
        "colab": {
          "base_uri": "https://localhost:8080/"
        },
        "id": "ULnOJnDgDRlE",
        "outputId": "ddd471c5-a79f-4b41-b52d-7c90b896124a"
      },
      "outputs": [
        {
          "data": {
            "text/plain": [
              "['a', 'c', 'b', 'a']"
            ]
          },
          "execution_count": 21,
          "metadata": {},
          "output_type": "execute_result"
        }
      ],
      "source": [
        "a_list"
      ]
    },
    {
      "cell_type": "code",
      "execution_count": null,
      "metadata": {
        "colab": {
          "base_uri": "https://localhost:8080/",
          "height": 36
        },
        "id": "qYBpvUw5DS6L",
        "outputId": "bb22c67f-d904-4fed-ed61-5fea7042dc2a"
      },
      "outputs": [
        {
          "data": {
            "application/vnd.google.colaboratory.intrinsic+json": {
              "type": "string"
            },
            "text/plain": [
              "'acba'"
            ]
          },
          "execution_count": 22,
          "metadata": {},
          "output_type": "execute_result"
        }
      ],
      "source": [
        "a_str"
      ]
    },
    {
      "cell_type": "code",
      "execution_count": null,
      "metadata": {
        "id": "VF1bvXpZj-An"
      },
      "outputs": [],
      "source": [
        "def new_list(a_list):\n",
        "  a_str = ''\n",
        "  for i in a_list:\n",
        "      a_str += i\n",
        "  print(a_str)\n",
        "  return a_str"
      ]
    },
    {
      "cell_type": "code",
      "execution_count": null,
      "metadata": {
        "colab": {
          "base_uri": "https://localhost:8080/"
        },
        "id": "UUQmzdNFonJc",
        "outputId": "b869161b-78d6-4bd1-b98d-3dae1f139c45"
      },
      "outputs": [
        {
          "data": {
            "text/plain": [
              "['c', 'b', 'c']"
            ]
          },
          "execution_count": 59,
          "metadata": {},
          "output_type": "execute_result"
        }
      ],
      "source": [
        "\n",
        "a_list"
      ]
    },
    {
      "cell_type": "code",
      "execution_count": null,
      "metadata": {
        "colab": {
          "background_save": true,
          "base_uri": "https://localhost:8080/"
        },
        "id": "uvHlgvOW7KJ3",
        "outputId": "fb8ce864-98ec-4153-ce01-7dfd2d71693a"
      },
      "outputs": [
        {
          "name": "stdout",
          "output_type": "stream",
          "text": [
            "cbc\n",
            "8\n",
            "cab\n",
            "6\n",
            "bab\n",
            "7\n",
            "bbc\n",
            "1\n",
            "bS\n",
            "there is not a solution\n"
          ]
        }
      ],
      "source": [
        "a_str = 'cbc'\n",
        "a_list = [i for i in a_str]\n",
        "\n",
        "n = len(a_list)\n",
        "print(a_str)\n",
        "k = 0\n",
        "\n",
        "while len(a_str) != 1:\n",
        "    \n",
        "  for i in range(n):\n",
        "    \n",
        "    if n - i >= 3:\n",
        "      if a_str[i:i+3] == 'bbc':               # 4\n",
        "        a_list[i:i+3] = ['b','c','0']\n",
        "        a_list.remove('0'); print(4)\n",
        "        a_str = new_list(a_list); break\n",
        "      elif a_str[i:i+3] == 'abb':             # 3\n",
        "        a_list[i:i+3] = ['0','a','b']\n",
        "        a_list.remove('0'); print(3)\n",
        "        a_str = new_list(a_list); break\n",
        "  \n",
        "  for i in range(n):\n",
        "    if a_str[i:i+2] == 'SS':                  # 2\n",
        "      a_list[i:i+2] = ['S', '0']\n",
        "      a_list.remove('0'); print(2)\n",
        "      a_str = new_list(a_list); break\n",
        "    elif a_str[i:i+2] == 'bc':                # 8\n",
        "      a_list[i:i+2] = ['a', 'b']; print(8)\n",
        "      a_str = new_list(a_list); break\n",
        "\n",
        "\n",
        "  for i in range(n):\n",
        "    if a_str[i:i+2] == 'ba':                # 5\n",
        "      a_list[i:i+2] = ['b', 'c']; print(5)\n",
        "      a_str = new_list(a_list); break\n",
        "    elif a_str[i:i+2] == 'aa':                \n",
        "      a_list[i:i+2] = ['a', 'c']; print(5)\n",
        "      a_str = new_list(a_list); break\n",
        "    \n",
        "    elif a_str[i:i+2] == 'ca':                # 6\n",
        "      a_list[i:i+2] = ['b', 'a']; print(6)\n",
        "      a_str = new_list(a_list); break\n",
        "    elif a_str[i:i+2] == 'ac':              \n",
        "      a_list[i:i+2] = ['a', 'b']; print(6)\n",
        "      a_str = new_list(a_list); break\n",
        "    elif a_str[i:i+2] == 'cc':              \n",
        "      a_list[i:i+2] = ['b', 'c']; print(6)\n",
        "      a_str = new_list(a_list); break\n",
        "  \n",
        "  for i in range(n):\n",
        "    if a_str[i:i+2] == 'ab':                # 7\n",
        "      a_list[i:i+2] = ['b', 'c']; print(7)\n",
        "      a_str = new_list(a_list); break\n",
        "  \n",
        "  for i in range(n):  \n",
        "    if a_str[i:i+2] == 'bc':                # 1\n",
        "      a_list[i:i+2] = ['S', '0']\n",
        "      a_list.remove('0'); print(1)\n",
        "      a_str = new_list(a_list); break\n",
        "  \n",
        "  k += 1\n",
        "  if k > 20:\n",
        "    print('there is not a solution')\n",
        "    break"
      ]
    },
    {
      "cell_type": "code",
      "source": [
        "s = 'holai'\n",
        "s = s.replace('ol','i') #s = s.replace('ol','ip'), s.rfind('ai')  index where begins and -1 when is not\n",
        "s"
      ],
      "metadata": {
        "colab": {
          "base_uri": "https://localhost:8080/",
          "height": 36
        },
        "id": "9_M3TGRZP9Th",
        "outputId": "43837996-827d-4944-df47-9fa2f40199da"
      },
      "execution_count": null,
      "outputs": [
        {
          "output_type": "execute_result",
          "data": {
            "text/plain": [
              "'hiai'"
            ],
            "application/vnd.google.colaboratory.intrinsic+json": {
              "type": "string"
            }
          },
          "metadata": {},
          "execution_count": 20
        }
      ]
    },
    {
      "cell_type": "code",
      "source": [
        "import random"
      ],
      "metadata": {
        "id": "1aQ7VAp8XMZS"
      },
      "execution_count": null,
      "outputs": []
    },
    {
      "cell_type": "code",
      "source": [
        "c0 = ['SS','bbc','abb']\n",
        "c1 = ['bc', 'ba','aa','ca','ac','cc']\n",
        "c2 = ['bc','ab']\n",
        "c3 = ['ab','bc','a','c']\n",
        "\n",
        "list1 = [c0,c1,c2,c3]\n",
        "\n",
        "r0 = ['S', 'bc','ab']\n",
        "r1 = ['S', 'bc', 'ac', 'ba', 'ab', 'bc']\n",
        "r2 = ['c', 'a']\n",
        "r3 = ['bc','ab','c','b']\n",
        "\n",
        "def order(list1, res):\n",
        "  for i in [len(k) for k in list1]:\n",
        "    if i==3:res.append(r0)\n",
        "    elif i==6:res.append(r1)\n",
        "    elif i==2:res.append(r2)\n",
        "    elif i==4:res.append(r3)\n",
        "  return res"
      ],
      "metadata": {
        "id": "r_kgBk1gbW3a"
      },
      "execution_count": null,
      "outputs": []
    },
    {
      "cell_type": "code",
      "source": [
        "list1 = random.sample(list1, 4)\n",
        "res = []\n",
        "res = order(list1, res)\n",
        "print(list1[0][0])\n",
        "print(res[0][0])"
      ],
      "metadata": {
        "colab": {
          "base_uri": "https://localhost:8080/"
        },
        "id": "5yzB71TVdRaQ",
        "outputId": "6db95bc9-d713-4b8a-daf3-09e0484ba5b4"
      },
      "execution_count": null,
      "outputs": [
        {
          "output_type": "stream",
          "name": "stdout",
          "text": [
            "bc\n",
            "c\n"
          ]
        }
      ]
    },
    {
      "cell_type": "code",
      "source": [
        "s = 'acba'\n",
        "s = s.replace('ba','bc')\n",
        "s = s.replace('ac','ab')\n",
        "s = s.replace('bbc','bc')\n",
        "s "
      ],
      "metadata": {
        "colab": {
          "base_uri": "https://localhost:8080/",
          "height": 36
        },
        "id": "My9FuW2ntdny",
        "outputId": "d231f83b-7ab5-4c25-f380-ea17456d3798"
      },
      "execution_count": null,
      "outputs": [
        {
          "output_type": "execute_result",
          "data": {
            "text/plain": [
              "'abc'"
            ],
            "application/vnd.google.colaboratory.intrinsic+json": {
              "type": "string"
            }
          },
          "metadata": {},
          "execution_count": 104
        }
      ]
    },
    {
      "cell_type": "code",
      "source": [
        "for i,j in zip(list1, res):\n",
        "  for gram, word in zip(i,j):\n",
        "    print(gram, word)"
      ],
      "metadata": {
        "colab": {
          "base_uri": "https://localhost:8080/"
        },
        "id": "qpsbJfzNfkyN",
        "outputId": "042d8463-4bcd-47a2-c428-7ab5725261db"
      },
      "execution_count": null,
      "outputs": [
        {
          "output_type": "stream",
          "name": "stdout",
          "text": [
            "bc c\n",
            "ab a\n",
            "ba bc\n",
            "aa ac\n",
            "ca ba\n",
            "ac ab\n",
            "cc bc\n",
            "ab bc\n",
            "bc ab\n",
            "a c\n",
            "c b\n",
            "bbc bc\n",
            "abb ab\n",
            "SS S\n"
          ]
        }
      ]
    },
    {
      "cell_type": "code",
      "execution_count": null,
      "metadata": {
        "colab": {
          "base_uri": "https://localhost:8080/"
        },
        "id": "075q-iE_RwdQ",
        "outputId": "df8af943-389b-4de1-e546-ec090be4a1d1"
      },
      "outputs": [
        {
          "output_type": "stream",
          "name": "stdout",
          "text": [
            "3 a c\n",
            "3 c b\n",
            "12 bbbb\n",
            "2 ba bc\n",
            "0 ac ab\n",
            "1 bbc bc\n",
            "0 ab bc\n",
            "0 bc ab\n",
            "0 a c\n",
            "2 c b\n",
            "12 bbb\n",
            "2 ba bc\n",
            "0 ac ab\n",
            "0 ab bc\n",
            "2 bc ab\n",
            "2 a c\n",
            "2 c b\n",
            "12 bbbb\n",
            "3 a c\n",
            "3 c b\n",
            "12 bbbb\n",
            "3 a c\n",
            "3 c b\n",
            "12 bbbb\n"
          ]
        },
        {
          "output_type": "execute_result",
          "data": {
            "text/plain": [
              "False"
            ]
          },
          "metadata": {},
          "execution_count": 81
        }
      ],
      "source": [
        "\n",
        "\n",
        "h = 0\n",
        "while h<5:\n",
        "  k = 0\n",
        "  string = 'acba'\n",
        "  list1 = random.sample(list1, 4)\n",
        "  res = []\n",
        "  res = order(list1, res)\n",
        "\n",
        "  while k<10:\n",
        "    for i,j in zip(list1, res):\n",
        "      k+=1\n",
        "      for gram, word in zip(i,j):\n",
        "        if string.rfind(gram) != -1:\n",
        "          print(string.rfind(gram), gram, word)\n",
        "          string = string.replace(gram, word)    \n",
        "          \n",
        "    if len(string)==1:\n",
        "      break\n",
        "  h +=1\n",
        "  print(k, string)\n",
        "\n",
        "\n",
        "string == 'S'"
      ]
    },
    {
      "cell_type": "code",
      "source": [
        "grammar = ['bc','SS','ab','bc','a','c','ab','bc']\n",
        "com = ['S','S', 'a', 'c' ,'c','b','bc','ab'] \n",
        "\n",
        "from queue import PriorityQueue\n",
        " \n",
        "#Creating Base Class\n",
        "\n",
        "class State(object):\n",
        "    def __init__(self, value, parent, start = 0, goal = 0):\n",
        "        self.children = []\n",
        "        self.parent = parent\n",
        "        self.value = value\n",
        "        self.dist = 0\n",
        "        if parent:\n",
        "            self.start = parent.start\n",
        "            self.goal = parent.goal\n",
        "            self.path = parent.path[:]\n",
        "            self.path.append(value)\n",
        " \n",
        "        else:\n",
        "            self.path = [value]\n",
        "            self.start = start\n",
        "            self.goal = goal\n",
        " \n",
        "    def GetDistance(self):\n",
        "        pass\n",
        "    def CreateChildren(self):\n",
        "        pass\n",
        " \n",
        " \n",
        "# Creating subclass\n",
        "class State_String(State):\n",
        "    def __init__(self, value, parent, start = 0, goal = 0 ):\n",
        "        super(State_String, self).__init__(value, parent, start, goal)\n",
        "        self.dist = self.GetDistance()\n",
        " \n",
        "    def GetDistance(self):\n",
        "            if self.value == self.goal:\n",
        "                return 0\n",
        "            dist = 0\n",
        "            for i in range(len(self.goal)):\n",
        "                letter = self.goal[i]\n",
        "                dist += abs(i - self.value.index(letter))\n",
        "            return dist\n",
        " \n",
        "    def CreateChildren(self):\n",
        "            if not self.children:\n",
        "                #for i in range(len(self.goal)-1):\n",
        "                for i,j in zip(grammar, com):\n",
        "                    val = self.value\n",
        "                    if val.rfind(i) != -1:\n",
        "                      val = val.replace(i,j)\n",
        "                      child = State_String(val, self)\n",
        "                      self.children.append(child)\n",
        " \n",
        "# Creating a class that hold the final magic\n",
        "class A_Star_Solver:\n",
        "    def __init__(self, start, goal):\n",
        "        self.path = []\n",
        "        self.vistedQueue =[]\n",
        "        self.priorityQueue = PriorityQueue()\n",
        "        self.start = start\n",
        "        self.goal = goal\n",
        " \n",
        "    def Solve(self):\n",
        "        startState = State_String(self.start,0,self.start,self.goal)\n",
        " \n",
        "        count = 0\n",
        "        self.priorityQueue.put((0,count, startState))\n",
        "        while(not self.path and self.priorityQueue.qsize()):\n",
        "               closesetChild = self.priorityQueue.get()[2]\n",
        "               closesetChild.CreateChildren()\n",
        "               self.vistedQueue.append(closesetChild.value)\n",
        "               for child in closesetChild.children:\n",
        "                   if child.value not in self.vistedQueue:\n",
        "                    count += 1\n",
        "                    if not child.dist:\n",
        "                       self.path = child.path\n",
        "                       break\n",
        "                    self.priorityQueue.put((child.dist,count,child))\n",
        "        if not self.path:\n",
        "            print(\"Goal Of  is not possible !\" + self.goal )\n",
        "        return self.path\n",
        " \n",
        "# Calling all the existing stuffs\n",
        "if __name__ == \"__main__\":\n",
        "    start1 = \"aaa\"\n",
        "    goal1 = \"S\"\n",
        "    print(\"Starting....\")\n",
        "    a = A_Star_Solver(start1,goal1)\n",
        "    a.Solve()\n",
        "    for i in range(len(a.path)):\n",
        "        print(\"{0}){1}\".format(i,a.path[i]))"
      ],
      "metadata": {
        "colab": {
          "base_uri": "https://localhost:8080/"
        },
        "id": "CBn69QCSmJFj",
        "outputId": "ee9ee83b-daab-4448-b6f8-b151566858bf"
      },
      "execution_count": null,
      "outputs": [
        {
          "output_type": "stream",
          "name": "stdout",
          "text": [
            "Starting....\n",
            "Goal Of  is not possible !S\n"
          ]
        }
      ]
    }
  ],
  "metadata": {
    "colab": {
      "provenance": [],
      "authorship_tag": "ABX9TyPrCsEVIqYhz9rehDvALrHv",
      "include_colab_link": true
    },
    "kernelspec": {
      "display_name": "Python 3",
      "name": "python3"
    },
    "language_info": {
      "name": "python"
    }
  },
  "nbformat": 4,
  "nbformat_minor": 0
}